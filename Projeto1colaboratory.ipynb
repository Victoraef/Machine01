{
  "nbformat": 4,
  "nbformat_minor": 0,
  "metadata": {
    "colab": {
      "name": "Projeto1colaboratory.ipynb",
      "provenance": [],
      "collapsed_sections": [],
      "authorship_tag": "ABX9TyMM1PDknJcz78Ci0s/zHFnT",
      "include_colab_link": true
    },
    "kernelspec": {
      "name": "python3",
      "display_name": "Python 3"
    }
  },
  "cells": [
    {
      "cell_type": "markdown",
      "metadata": {
        "id": "view-in-github",
        "colab_type": "text"
      },
      "source": [
        "<a href=\"https://colab.research.google.com/github/Victoraef/Machine01/blob/master/Projeto1colaboratory.ipynb\" target=\"_parent\"><img src=\"https://colab.research.google.com/assets/colab-badge.svg\" alt=\"Open In Colab\"/></a>"
      ]
    },
    {
      "cell_type": "code",
      "metadata": {
        "id": "C4LFej9rz4ka",
        "colab_type": "code",
        "colab": {
          "base_uri": "https://localhost:8080/",
          "height": 68
        },
        "outputId": "95b16604-87af-4b2c-bc7e-f506da7841d0"
      },
      "source": [
        "### ISTO É UM COMANDO DE SAÍDA\n",
        "print('olá Mundo Cruel!!!')\n",
        "print('Cruel World!!!')\n",
        "print('Teste do Teste!!')\n",
        "\n",
        "#a hastag é um comentário no código, ou seja, o programa não irá processar nenhuma linha que estiver marcada\n",
        "# o comando print() mostra na tela, ou seja, é uma saída de valor(es).\n",
        "# O conteúdo texto deve estar entre aspas (simples ou dupla)\n",
        "\n"
      ],
      "execution_count": null,
      "outputs": [
        {
          "output_type": "stream",
          "text": [
            "olá Mundo Cruel!!!\n",
            "Cruel World!!!\n",
            "Teste do Teste!!\n"
          ],
          "name": "stdout"
        }
      ]
    }
  ]
}